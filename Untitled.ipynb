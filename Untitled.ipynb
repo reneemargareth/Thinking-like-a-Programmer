{
 "cells": [
  {
   "cell_type": "code",
   "execution_count": 40,
   "id": "fcc4d3c8-5d6c-4b95-a2f5-ed07054bf2ed",
   "metadata": {},
   "outputs": [
    {
     "data": {
      "text/plain": [
       "'C'"
      ]
     },
     "execution_count": 40,
     "metadata": {},
     "output_type": "execute_result"
    }
   ],
   "source": [
    "def shift_letter(letter, shift):\n",
    "    rotation = ord(letter)-(40+(2*(ord(letter)-65)))\n",
    "    shifted = shift-(26*(int(shift/26)))\n",
    "    if letter in ['A', 'B', 'C', 'D', 'E', 'F', 'G', 'H', 'I', 'J', 'K', 'L', 'M', 'N', 'O', 'P', 'Q', 'R', 'S', 'T', 'U', 'V', 'W', 'X', 'Y', 'Z'] and shifted<=rotation:\n",
    "        initial = ord(letter)+shifted\n",
    "        changed = chr(initial)\n",
    "        return (changed)\n",
    "    elif letter in ['A', 'B', 'C', 'D', 'E', 'F', 'G', 'H', 'I', 'J', 'K', 'L', 'M', 'N', 'O', 'P', 'Q', 'R', 'S', 'T', 'U', 'V', 'W', 'X', 'Y', 'Z'] and shifted>rotation:\n",
    "        initial = ord(letter)+(shifted-26)\n",
    "        changed = chr(initial)\n",
    "        return (changed)\n",
    "    else:\n",
    "        return \" \"\n",
    "    \n",
    "shift_letter(\"X\", 5)"
   ]
  },
  {
   "cell_type": "code",
   "execution_count": 57,
   "id": "062d6346-45ba-4d76-86cd-b73acb9d985c",
   "metadata": {},
   "outputs": [
    {
     "data": {
      "text/plain": [
       "'NBSAP'"
      ]
     },
     "execution_count": 57,
     "metadata": {},
     "output_type": "execute_result"
    }
   ],
   "source": [
    "def caesar_cipher(message, shift):\n",
    "    finaltext = \"\"\n",
    "    i = 0\n",
    "    for i in range(len(message)):\n",
    "        letter = message[i]\n",
    "        rotation = ord(letter)-(40+(2*(ord(letter)-65)))\n",
    "        shifted = shift-(26*(int(shift/26)))\n",
    "        if letter in ['A', 'B', 'C', 'D', 'E', 'F', 'G', 'H', 'I', 'J', 'K', 'L', 'M', 'N', 'O', 'P', 'Q', 'R', 'S', 'T', 'U', 'V', 'W', 'X', 'Y', 'Z'] and shifted<=rotation:\n",
    "            initial = ord(letter) + shifted\n",
    "            changed = chr(initial)\n",
    "            finaltext  += changed\n",
    "            i = i+1\n",
    "        elif letter in ['A', 'B', 'C', 'D', 'E', 'F', 'G', 'H', 'I', 'J', 'K', 'L', 'M', 'N', 'O', 'P', 'Q', 'R', 'S', 'T', 'U', 'V', 'W', 'X', 'Y', 'Z'] and shifted>rotation:\n",
    "            initial = ord(letter) + (shifted-26)\n",
    "            changed = chr(initial)\n",
    "            finaltext += changed\n",
    "            i = i+1\n",
    "        else:\n",
    "            changed = \" \"\n",
    "            finaltext += changed\n",
    "            i = i + 1\n",
    "    return finaltext\n",
    "\n",
    "caesar_cipher(\"MARZO\", 1)"
   ]
  },
  {
   "cell_type": "code",
   "execution_count": 46,
   "id": "be68dd70-c1ad-482c-bfbc-f54017cb0b88",
   "metadata": {},
   "outputs": [
    {
     "data": {
      "text/plain": [
       "'Q'"
      ]
     },
     "execution_count": 46,
     "metadata": {},
     "output_type": "execute_result"
    }
   ],
   "source": [
    "def shift_by_letter(letter, letter_shift):\n",
    "    rotation = ord(letter)-(40+(2*(ord(letter)-65)))\n",
    "    shifted = ord(letter_shift) - 65\n",
    "    if letter in ['A', 'B', 'C', 'D', 'E', 'F', 'G', 'H', 'I', 'J', 'K', 'L', 'M', 'N', 'O', 'P', 'Q', 'R', 'S', 'T', 'U', 'V', 'W', 'X', 'Y', 'Z'] and shifted<=rotation:\n",
    "        initial = ord(letter)+shifted\n",
    "        changed = chr(initial)\n",
    "        return (changed)\n",
    "    elif letter in ['A', 'B', 'C', 'D', 'E', 'F', 'G', 'H', 'I', 'J', 'K', 'L', 'M', 'N', 'O', 'P', 'Q', 'R', 'S', 'T', 'U', 'V', 'W', 'X', 'Y', 'Z'] and shifted>rotation:\n",
    "        initial = ord(letter)+(shifted-26)\n",
    "        changed = chr(initial)\n",
    "        return (changed)\n",
    "    else:\n",
    "        return \" \"\n",
    "\n",
    "shift_by_letter(\"M\", \"E\")"
   ]
  },
  {
   "cell_type": "code",
   "execution_count": 56,
   "id": "d55fa48b-9b03-46c4-a9fb-3d83cbaf93a7",
   "metadata": {},
   "outputs": [
    {
     "data": {
      "text/plain": [
       "'KEYKEYKEY'"
      ]
     },
     "execution_count": 56,
     "metadata": {},
     "output_type": "execute_result"
    }
   ],
   "source": [
    "def vigenere_cipher(message, key):\n",
    "    finaltext = \"\"\n",
    "    letter = 0\n",
    "    if len(message)==len(key):\n",
    "        key=key\n",
    "    else:\n",
    "        extra = 0\n",
    "        for extra in range(len(message)-len(key)):\n",
    "            if extra <= (len(key)-1):\n",
    "                key += key[extra]\n",
    "                extra=extra+1\n",
    "            else:\n",
    "                key += key[extra-(3*(int(extra/3)))]\n",
    "                extra=extra+1 \n",
    "    for letter in range(len(message)):\n",
    "        char = message[letter]\n",
    "        rotation = ord(char)-(40+(2*(ord(char)-65)))\n",
    "        shifted = ord(key[letter])-65\n",
    "        if char in ['A', 'B', 'C', 'D', 'E', 'F', 'G', 'H', 'I', 'J', 'K', 'L', 'M', 'N', 'O', 'P', 'Q', 'R', 'S', 'T', 'U', 'V', 'W', 'X', 'Y', 'Z'] and shifted<=rotation:\n",
    "            initial = ord(char) + shifted\n",
    "            changed = chr(initial)\n",
    "            finaltext  += changed\n",
    "            letter = letter+1\n",
    "        elif char in ['A', 'B', 'C', 'D', 'E', 'F', 'G', 'H', 'I', 'J', 'K', 'L', 'M', 'N', 'O', 'P', 'Q', 'R', 'S', 'T', 'U', 'V', 'W', 'X', 'Y', 'Z'] and shifted>rotation:\n",
    "            initial = ord(char)+(shifted-26)\n",
    "            changed = chr(initial)\n",
    "            finaltext += changed\n",
    "            letter = letter+1\n",
    "        else:\n",
    "            changed = \" \"\n",
    "            finaltext += changed\n",
    "            letter = letter+1\n",
    "    return finaltext\n",
    "\n",
    "vigenere_cipher(\"AAAAAAAAA\", \"KEY\")"
   ]
  },
  {
   "cell_type": "code",
   "execution_count": 61,
   "id": "865ef535-cf40-4fc1-8f50-c1567d216ce2",
   "metadata": {},
   "outputs": [
    {
     "data": {
      "text/plain": [
       "'HIARPTPHYD_ABY'"
      ]
     },
     "execution_count": 61,
     "metadata": {},
     "output_type": "execute_result"
    }
   ],
   "source": [
    "def scytale_cipher(message, shift):\n",
    "    encoded = \"\"\n",
    "    letter = 0\n",
    "    multiple = len(message)-(shift*int(len(message)/shift))\n",
    "    difference = shift-multiple\n",
    "    if multiple == 0 and len(message)>=shift:\n",
    "        new = message\n",
    "    else:\n",
    "        extra = 0\n",
    "        for extra in range(difference):\n",
    "            new = message+\"_\"\n",
    "            extra += 1\n",
    "    for letter in range(len(new)):\n",
    "        final = new[(letter//shift)+(len(new)//shift)*(letter%shift)]\n",
    "        encoded+=final\n",
    "        letter += 1\n",
    "    return encoded\n",
    "\n",
    "scytale_cipher(\"HAPPY_BIRTHDAY\", 2)"
   ]
  },
  {
   "cell_type": "code",
   "execution_count": 74,
   "id": "1022c866-93b8-43fc-ab55-a2d5695f0e7e",
   "metadata": {},
   "outputs": [
    {
     "data": {
      "text/plain": [
       "'INFORMATION_AGE_'"
      ]
     },
     "execution_count": 74,
     "metadata": {},
     "output_type": "execute_result"
    }
   ],
   "source": [
    "def scytale_decipher(message, shift):\n",
    "    decoded = \"\"\n",
    "    letter = 0\n",
    "    for letter in range(len(message)):\n",
    "        final = message[int((letter-((len(message)/shift)*int(letter/(len(message)/shift))))*shift)+int(letter/(len(message)/shift))]\n",
    "        decoded += final\n",
    "        letter += 1\n",
    "    return decoded\n",
    "\n",
    "scytale_decipher(\"IRIANMOGFANEOT__\", 4)"
   ]
  },
  {
   "cell_type": "code",
   "execution_count": 85,
   "id": "79582255-ccba-4d85-86ef-2041ffaf7d7e",
   "metadata": {},
   "outputs": [
    {
     "data": {
      "text/plain": [
       "'INFORMATION_AGE'"
      ]
     },
     "execution_count": 85,
     "metadata": {},
     "output_type": "execute_result"
    }
   ],
   "source": [
    "def scytale_decipher(message, shift):\n",
    "    final = \"\"\n",
    "    letter = 0\n",
    "    factor = len(message)/shift\n",
    "    for letter in range(len(message)):\n",
    "        added = message[int(shift*(letter-(factor)*int(letter/(factor))))+int(letter/(factor))]\n",
    "        final += added\n",
    "        letter += 1\n",
    "    return final\n",
    "\n",
    "scytale_decipher(\"IMNNA_FTAOIGROE\", 3)"
   ]
  },
  {
   "cell_type": "code",
   "execution_count": null,
   "id": "f99bac10-5700-42fe-a28d-9c9d60443b68",
   "metadata": {},
   "outputs": [],
   "source": []
  },
  {
   "cell_type": "code",
   "execution_count": 70,
   "id": "09b6f12b-bb60-4f28-a606-cae5e7897d5d",
   "metadata": {},
   "outputs": [
    {
     "data": {
      "text/plain": [
       "'INFORMATION_AGE_'"
      ]
     },
     "execution_count": 70,
     "metadata": {},
     "output_type": "execute_result"
    }
   ],
   "source": [
    "def scytale_decipher(message, shift):\n",
    "    decoded_message = \"\"\n",
    "    i = 0\n",
    "    for i in range(len(message)):\n",
    "        a = message[int( ( i - ( ( len(message) / shift ) * int( i / ( len(message) / shift ) ) ) ) * shift ) + int( i / ( len(message) / shift ) )]\n",
    "        decoded_message += a\n",
    "        i += 1\n",
    "    return decoded_message\n",
    "        \n",
    "scytale_decipher(\"IRIANMOGFANEOT__\", 4)"
   ]
  },
  {
   "cell_type": "code",
   "execution_count": 31,
   "id": "d680d266-9b36-4146-99b1-1e01aa786051",
   "metadata": {},
   "outputs": [
    {
     "name": "stdin",
     "output_type": "stream",
     "text": [
      "Enter the Input Text :  happy birthday\n"
     ]
    },
    {
     "name": "stdout",
     "output_type": "stream",
     "text": [
      "Encrypted Text : lettc fmvxlhec\n"
     ]
    }
   ],
   "source": [
    "ALPHA = 'abcdefghijklmnopqrstuvwxyz'\n",
    " \n",
    "def encrypt_caesar(key, text):\n",
    "    final_text = ''\n",
    "    for k in text.lower():\n",
    "            try:\n",
    "                temp = (ALPHA.index(k) + key) % 26\n",
    "                final_text += ALPHA[temp]\n",
    "            except ValueError:\n",
    "                final_text+= k\n",
    "    return final_text.lower()\n",
    " \n",
    "key = 4\n",
    " \n",
    "inp_text=input(\"Enter the Input Text : \")\n",
    " \n",
    "encrypt_text = encrypt_caesar(key,inp_text)\n",
    " \n",
    "print(\"Encrypted Text :\",encrypt_text)"
   ]
  },
  {
   "cell_type": "code",
   "execution_count": null,
   "id": "76bfdc9a-a5cd-4229-b726-3f5b382f7af9",
   "metadata": {},
   "outputs": [],
   "source": []
  }
 ],
 "metadata": {
  "kernelspec": {
   "display_name": "Python 3 (ipykernel)",
   "language": "python",
   "name": "python3"
  },
  "language_info": {
   "codemirror_mode": {
    "name": "ipython",
    "version": 3
   },
   "file_extension": ".py",
   "mimetype": "text/x-python",
   "name": "python",
   "nbconvert_exporter": "python",
   "pygments_lexer": "ipython3",
   "version": "3.9.12"
  }
 },
 "nbformat": 4,
 "nbformat_minor": 5
}
